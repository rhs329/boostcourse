{
  "cells": [
    {
      "cell_type": "markdown",
      "metadata": {
        "id": "view-in-github",
        "colab_type": "text"
      },
      "source": [
        "<a href=\"https://colab.research.google.com/github/rhs329/boostcourse/blob/main/4_2_input.ipynb\" target=\"_parent\"><img src=\"https://colab.research.google.com/assets/colab-badge.svg\" alt=\"Open In Colab\"/></a>"
      ]
    },
    {
      "cell_type": "markdown",
      "metadata": {
        "id": "uN9csA6mnn_a"
      },
      "source": [
        "## 조건문\n",
        "### if\n",
        "* https://docs.python.org/ko/3/tutorial/controlflow.html#if-statements"
      ]
    },
    {
      "cell_type": "code",
      "execution_count": null,
      "metadata": {
        "id": "Q5IYiVHDnn_b"
      },
      "outputs": [],
      "source": [
        "# 숫자를 입력받아 음수와 양수 여부를 출력합니다.\n",
        "x = int(input(\"Please enter an integer: \"))\n",
        "if x > 0 :\n",
        "    print(\"양수\")\n",
        "elif x == 0 :\n",
        "    print(\"영\")\n",
        "else :\n",
        "    print(\"음수\")"
      ]
    },
    {
      "cell_type": "markdown",
      "metadata": {
        "id": "dGot2P9Knn_b"
      },
      "source": [
        "## 반복문\n",
        "### for\n",
        "* https://docs.python.org/ko/3/tutorial/controlflow.html#for-statements"
      ]
    },
    {
      "cell_type": "code",
      "execution_count": null,
      "metadata": {
        "id": "S-8T6S6Fnn_c",
        "colab": {
          "base_uri": "https://localhost:8080/"
        },
        "outputId": "ea79db11-33e8-4f82-895a-778b2fe44623"
      },
      "outputs": [
        {
          "output_type": "stream",
          "name": "stdout",
          "text": [
            "배추\n",
            "무\n",
            "토마토\n",
            "사과\n"
          ]
        }
      ],
      "source": [
        "# 리스트 안에 있는 값을 순회하며 반복문으로 출력해 보세요.\n",
        "words = ['배추', '무', '토마토', '사과']\n",
        "for w in words :\n",
        "    print(w)"
      ]
    },
    {
      "cell_type": "markdown",
      "metadata": {
        "id": "YF4LOMc-nn_c"
      },
      "source": [
        "### range() 함수\n",
        "* https://docs.python.org/ko/3/tutorial/controlflow.html#the-range-function"
      ]
    },
    {
      "cell_type": "code",
      "execution_count": null,
      "metadata": {
        "id": "iqZcBJO-nn_c",
        "colab": {
          "base_uri": "https://localhost:8080/"
        },
        "outputId": "cdbd8ed7-1f08-4e18-e1aa-05f2b53f43dc"
      },
      "outputs": [
        {
          "output_type": "execute_result",
          "data": {
            "text/plain": [
              "[0, 1, 2, 3, 4]"
            ]
          },
          "metadata": {},
          "execution_count": 2
        }
      ],
      "source": [
        "# range로 범위를 지정해 반복문을 수행할 수 있습니다.\n",
        "list(range(5))"
      ]
    },
    {
      "cell_type": "code",
      "source": [
        "for i in range(5):\n",
        "    print(i)"
      ],
      "metadata": {
        "colab": {
          "base_uri": "https://localhost:8080/"
        },
        "id": "6k2y_AyQoUl-",
        "outputId": "9b064431-f015-4f7b-a1e0-d1a062f7d59c"
      },
      "execution_count": null,
      "outputs": [
        {
          "output_type": "stream",
          "name": "stdout",
          "text": [
            "0\n",
            "1\n",
            "2\n",
            "3\n",
            "4\n"
          ]
        }
      ]
    },
    {
      "cell_type": "code",
      "execution_count": null,
      "metadata": {
        "id": "NTyOulQenn_c",
        "colab": {
          "base_uri": "https://localhost:8080/"
        },
        "outputId": "30cdc191-185f-48c8-b848-ef3840eb9646"
      },
      "outputs": [
        {
          "output_type": "stream",
          "name": "stdout",
          "text": [
            "i: 0 , a[i]: Mary\n",
            "i: 1 , a[i]: had\n",
            "i: 2 , a[i]: a\n",
            "i: 3 , a[i]: little\n",
            "i: 4 , a[i]: lamb\n"
          ]
        }
      ],
      "source": [
        "# 리스트를 변수로 받아 순회할 수도 있지만 리스트의 길이만큼 range 값을 생성하여 순회할 수도 있습니다.\n",
        "a = ['Mary', 'had', 'a', 'little', 'lamb']\n",
        "for i in range(len(a)):\n",
        "    print(\"i:\", i, \", a[i]:\", a[i])\n"
      ]
    },
    {
      "cell_type": "code",
      "execution_count": null,
      "metadata": {
        "id": "t6IjNO72nn_c",
        "colab": {
          "base_uri": "https://localhost:8080/"
        },
        "outputId": "edfc750f-9875-4c28-9d8a-2067dd79bb5d"
      },
      "outputs": [
        {
          "output_type": "stream",
          "name": "stdout",
          "text": [
            "0 Mary\n",
            "1 had\n",
            "2 a\n",
            "3 little\n",
            "4 lamb\n"
          ]
        }
      ],
      "source": [
        "# enumerate 를 사용하면 인덱스 번호와 값을 함께 가져올 수 있습니다.\n",
        "for i, val in enumerate(a):\n",
        "    print(i, val)"
      ]
    },
    {
      "cell_type": "markdown",
      "metadata": {
        "id": "XnZVMcLwnn_c"
      },
      "source": [
        "### range 응용"
      ]
    },
    {
      "cell_type": "code",
      "execution_count": null,
      "metadata": {
        "id": "BBlSVvNDnn_d",
        "colab": {
          "base_uri": "https://localhost:8080/"
        },
        "outputId": "58f8668c-0c12-40dc-ed4b-6fa55e0f7b5f"
      },
      "outputs": [
        {
          "output_type": "execute_result",
          "data": {
            "text/plain": [
              "[0, 1, 2, 3]"
            ]
          },
          "metadata": {},
          "execution_count": 8
        }
      ],
      "source": [
        "# 합계 구하기\n",
        "# 0 + 1 + 2 + 3 를 range와 sum을 사용해 구합니다.\n",
        "list(range(4))"
      ]
    },
    {
      "cell_type": "code",
      "execution_count": null,
      "metadata": {
        "id": "iJHOjNrInn_d",
        "colab": {
          "base_uri": "https://localhost:8080/"
        },
        "outputId": "542d751b-ec47-47c6-abfd-d12da548641c"
      },
      "outputs": [
        {
          "output_type": "execute_result",
          "data": {
            "text/plain": [
              "6"
            ]
          },
          "metadata": {},
          "execution_count": 9
        }
      ],
      "source": [
        "# 리스트로 만들기\n",
        "# list를 사용해 [0, 1, 2, 3] 리스트를 생성합니다.\n",
        "sum(list(range(4)))"
      ]
    },
    {
      "cell_type": "markdown",
      "metadata": {
        "id": "PGIjUoh7nn_d"
      },
      "source": [
        "### 조건문과 반복문 함께 사용하기"
      ]
    },
    {
      "cell_type": "code",
      "execution_count": null,
      "metadata": {
        "id": "PDI3BfXOnn_d",
        "colab": {
          "base_uri": "https://localhost:8080/"
        },
        "outputId": "ed72ffda-61af-4e3f-d199-084e98546bea"
      },
      "outputs": [
        {
          "output_type": "stream",
          "name": "stdout",
          "text": [
            "홀수\n",
            "짝수\n",
            "홀수\n",
            "짝수\n",
            "홀수\n",
            "짝수\n",
            "홀수\n",
            "짝수\n",
            "홀수\n",
            "짝수\n"
          ]
        }
      ],
      "source": [
        "# range로 값을 순회하며 짝수일 때는 \"짝수\"를 홀수일 때는 \"홀수\"를 출력하게 합니다.\n",
        "for i in range(1,11):\n",
        "    if i % 2 == 0 :\n",
        "        print(\"짝수\")\n",
        "    else :\n",
        "        print(\"홀수\")"
      ]
    },
    {
      "cell_type": "markdown",
      "metadata": {
        "id": "mdV20zCtnn_d"
      },
      "source": [
        "### While 문\n",
        "* 조건문이 참인 동안 순회하며 실행되기 때문에 특정 조건까지 반복문을 수행하고자 할때 사용합니다.\n",
        "* 예를 들어 특정 웹페이지를 순회한다면 내용이 없을 때까지 순회하라는 반복문을 구현할 수 있습니다."
      ]
    },
    {
      "cell_type": "code",
      "execution_count": null,
      "metadata": {
        "id": "XjS-hiIYnn_d",
        "colab": {
          "base_uri": "https://localhost:8080/"
        },
        "outputId": "eb017526-6bd3-4524-9525-cfb0a5278739"
      },
      "outputs": [
        {
          "output_type": "stream",
          "name": "stdout",
          "text": [
            "1\n",
            "2\n",
            "3\n",
            "4\n",
            "5\n",
            "6\n",
            "7\n",
            "8\n",
            "9\n",
            "10\n"
          ]
        }
      ],
      "source": [
        "# 변수의 초깃값을 부여하고 특정 변수값이 되면 종료하도록 합니다.\n",
        "변수 = 0\n",
        "while True:\n",
        "    변수 = 변수 + 1\n",
        "    print(변수)\n",
        "    if 변수 >= 10:\n",
        "        break"
      ]
    },
    {
      "cell_type": "markdown",
      "metadata": {
        "id": "aWbT5D_Pnn_d"
      },
      "source": [
        "## 함수\n",
        "* https://docs.python.org/ko/3/tutorial/controlflow.html#defining-functions"
      ]
    },
    {
      "cell_type": "code",
      "execution_count": null,
      "metadata": {
        "id": "eFW09DeBnn_e"
      },
      "outputs": [],
      "source": [
        "# 평균을 구하는 average 라는 이름을 갖는 함수를 만들어 보세요.\n",
        "\n",
        "def average(data):\n",
        "    \"\"\"리스트의 값을 받아 평균을 구하는 함수\"\"\"\n",
        "    avg = sum(data) / len(data)\n",
        "    return avg"
      ]
    },
    {
      "cell_type": "code",
      "execution_count": null,
      "metadata": {
        "id": "7j1-s98Ynn_e",
        "colab": {
          "base_uri": "https://localhost:8080/"
        },
        "outputId": "a2dc5ffc-e4ab-4b5c-c2c6-e5d86373c88b"
      },
      "outputs": [
        {
          "output_type": "execute_result",
          "data": {
            "text/plain": [
              "5.5"
            ]
          },
          "metadata": {},
          "execution_count": 14
        }
      ],
      "source": [
        "# 함수가 잘 만들어졌는지 확인합니다.\n",
        "data = range(1,11)\n",
        "average(data)"
      ]
    },
    {
      "cell_type": "code",
      "source": [
        "average??"
      ],
      "metadata": {
        "id": "auAFf4bTpXUb"
      },
      "execution_count": null,
      "outputs": []
    },
    {
      "cell_type": "code",
      "source": [
        "sum??"
      ],
      "metadata": {
        "id": "-WCcHP2rpbNo"
      },
      "execution_count": null,
      "outputs": []
    },
    {
      "cell_type": "markdown",
      "metadata": {
        "id": "YMbIls84nn_e"
      },
      "source": [
        "### sum 함수 for 문으로 직접 구현해 보기"
      ]
    },
    {
      "cell_type": "code",
      "execution_count": null,
      "metadata": {
        "id": "Lk9uHWpynn_e"
      },
      "outputs": [],
      "source": [
        "# 함수명은 total_sum 으로 매개변수는 num 이 되도록 구현합니다.\n",
        "def total_sum(num):\n",
        "    total = 0\n",
        "    for i in num:\n",
        "        total = total + i\n",
        "    return total"
      ]
    },
    {
      "cell_type": "code",
      "execution_count": null,
      "metadata": {
        "id": "eu3RCDVRnn_e",
        "colab": {
          "base_uri": "https://localhost:8080/"
        },
        "outputId": "81b85848-058b-4fac-fb8f-4004e1aed834"
      },
      "outputs": [
        {
          "output_type": "stream",
          "name": "stdout",
          "text": [
            "[1, 2, 3, 4, 5, 6, 7, 8, 9, 10]\n"
          ]
        },
        {
          "output_type": "execute_result",
          "data": {
            "text/plain": [
              "55"
            ]
          },
          "metadata": {},
          "execution_count": 22
        }
      ],
      "source": [
        "# 함수가 잘 만들어졌는지 확인합니다.\n",
        "num = range(1,11)\n",
        "print(list(num))\n",
        "total_sum(num)"
      ]
    },
    {
      "cell_type": "code",
      "source": [
        "sum(num)"
      ],
      "metadata": {
        "colab": {
          "base_uri": "https://localhost:8080/"
        },
        "id": "4a22hB8kp9o_",
        "outputId": "759c9367-3c69-447d-b2c6-86c9039ec8b6"
      },
      "execution_count": null,
      "outputs": [
        {
          "output_type": "execute_result",
          "data": {
            "text/plain": [
              "55"
            ]
          },
          "metadata": {},
          "execution_count": 23
        }
      ]
    },
    {
      "cell_type": "code",
      "execution_count": null,
      "metadata": {
        "id": "dKxv7Fawnn_e"
      },
      "outputs": [],
      "source": [
        "\n"
      ]
    }
  ],
  "metadata": {
    "colab": {
      "provenance": [],
      "include_colab_link": true
    },
    "kernelspec": {
      "display_name": "Python 3",
      "language": "python",
      "name": "python3"
    },
    "language_info": {
      "codemirror_mode": {
        "name": "ipython",
        "version": 3
      },
      "file_extension": ".py",
      "mimetype": "text/x-python",
      "name": "python",
      "nbconvert_exporter": "python",
      "pygments_lexer": "ipython3",
      "version": "3.7.6"
    },
    "toc": {
      "base_numbering": 1,
      "nav_menu": {},
      "number_sections": true,
      "sideBar": true,
      "skip_h1_title": false,
      "title_cell": "Table of Contents",
      "title_sidebar": "Contents",
      "toc_cell": false,
      "toc_position": {},
      "toc_section_display": true,
      "toc_window_display": false
    },
    "varInspector": {
      "cols": {
        "lenName": 16,
        "lenType": 16,
        "lenVar": 40
      },
      "kernels_config": {
        "python": {
          "delete_cmd_postfix": "",
          "delete_cmd_prefix": "del ",
          "library": "var_list.py",
          "varRefreshCmd": "print(var_dic_list())"
        },
        "r": {
          "delete_cmd_postfix": ") ",
          "delete_cmd_prefix": "rm(",
          "library": "var_list.r",
          "varRefreshCmd": "cat(var_dic_list()) "
        }
      },
      "types_to_exclude": [
        "module",
        "function",
        "builtin_function_or_method",
        "instance",
        "_Feature"
      ],
      "window_display": false
    }
  },
  "nbformat": 4,
  "nbformat_minor": 0
}